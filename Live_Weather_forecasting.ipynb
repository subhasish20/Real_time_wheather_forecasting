{
  "cells": [
    {
      "cell_type": "code",
      "execution_count": 390,
      "metadata": {
        "id": "67-zJRbVzGFB"
      },
      "outputs": [],
      "source": [
        "import pandas as pd\n",
        "import numpy as np\n",
        "import requests\n",
        "from sklearn.preprocessing import LabelEncoder\n",
        "from sklearn.model_selection import train_test_split\n",
        "from sklearn.ensemble import RandomForestClassifier\n",
        "from sklearn.ensemble import RandomForestRegressor\n",
        "from sklearn.svm import SVR\n",
        "from sklearn.metrics import accuracy_score\n",
        "import time\n",
        "import pytz"
      ]
    },
    {
      "cell_type": "markdown",
      "metadata": {
        "id": "cBuOtq7I2gs7"
      },
      "source": [
        "### Fetch the current weather"
      ]
    },
    {
      "cell_type": "code",
      "execution_count": null,
      "metadata": {
        "id": "JbbxgY3vz7q-"
      },
      "outputs": [],
      "source": [
        "\n",
        "def get_current_weather(city):\n",
        "    API_KEY = 'a5e8713c6700bfce420cd38b90e2122b'\n",
        "    BASE_URL = 'https://api.openweathermap.org/data/2.5/weather'\n",
        "    \n",
        "    url = f\"{BASE_URL}?q={city}&appid={API_KEY}&units=metric\"\n",
        "    response = requests.get(url)\n",
        "\n",
        "    if response.status_code != 200:\n",
        "        raise ValueError(f\"API request failed with status {response.status_code}: {response.text}\")\n",
        "    \n",
        "    data = response.json()\n",
        "\n",
        "    # Check for 'weather' key\n",
        "    if 'weather' not in data or not data['weather']:\n",
        "        raise ValueError(\"Weather data not found in API responshe.\")\n",
        "\n",
        "    return {\n",
        "        'city': data.get('name', 'N/A'),\n",
        "        'current_temp': round(data['main']['temp']),\n",
        "        'min_temp': data['main']['temp_min'],\n",
        "        'max_temp': data['main']['temp_max'],\n",
        "        'humidity': data['main']['humidity'],\n",
        "        'pressure': data['main'].get('pressure', 1013),\n",
        "        'wind_speed': data['wind']['speed'],\n",
        "        'wind_deg': data['wind'].get('deg', 0),\n",
        "        'Wind_Gust_Speed': data['wind'].get('gust', 0),\n",
        "        'description': data['weather'][0]['description'],\n",
        "        'country': data['sys'].get('country', 'N/A')\n",
        "    }\n"
      ]
    },
    {
      "cell_type": "markdown",
      "metadata": {
        "id": "lEPRPrrw2jdi"
      },
      "source": [
        "### read the historical data"
      ]
    },
    {
      "cell_type": "code",
      "execution_count": 392,
      "metadata": {
        "id": "pQBXN_-BRh1r"
      },
      "outputs": [],
      "source": [
        "def read_historical_data(filename):\n",
        "  df = pd.read_csv(filename)\n",
        "  df = df.dropna()\n",
        "  df = df.drop_duplicates()\n",
        "\n",
        "  return df"
      ]
    },
    {
      "cell_type": "markdown",
      "metadata": {
        "id": "REatVKXo3DYU"
      },
      "source": [
        "### data preprocessing"
      ]
    },
    {
      "cell_type": "code",
      "execution_count": 393,
      "metadata": {
        "id": "5t2534FK5Ht7"
      },
      "outputs": [],
      "source": [
        "def prepare_data(data):\n",
        "  le = LabelEncoder()\n",
        "  data['WindGustDir'] = le.fit_transform(data['WindGustDir'])\n",
        "  data['RainTomorrow'] = le.fit_transform(data['RainTomorrow'])\n",
        "\n",
        "  X = data.drop(columns=['RainTomorrow'])\n",
        "  y = data['RainTomorrow']\n",
        "\n",
        "  return X,y,le\n"
      ]
    },
    {
      "cell_type": "markdown",
      "metadata": {
        "id": "6HBHMCWLS4NZ"
      },
      "source": [
        "### Train Rain Prediction Model"
      ]
    },
    {
      "cell_type": "code",
      "execution_count": 394,
      "metadata": {
        "id": "VfX7bj7bS0ge"
      },
      "outputs": [],
      "source": [
        "def train_rain_model(X,y):\n",
        "  X_train,X_test,y_train,y_test = train_test_split(X,y,test_size=0.1,random_state=42)\n",
        "  model = RandomForestClassifier()\n",
        "  model.fit(X_train,y_train)\n",
        "\n",
        "  y_pred = model.predict(X_test)\n",
        "\n",
        "  return model"
      ]
    },
    {
      "cell_type": "markdown",
      "metadata": {
        "id": "qZ9iWfLfTjPx"
      },
      "source": [
        "## prepare regression data"
      ]
    },
    {
      "cell_type": "code",
      "execution_count": 395,
      "metadata": {
        "id": "Z8LtzkK-ThtC"
      },
      "outputs": [],
      "source": [
        "def prepare_regression_data(data,features):\n",
        "    X,y = [],[]\n",
        "    for i in range(len(data)-1):\n",
        "        X.append(data[features].iloc[i])\n",
        "\n",
        "        y.append(data[features].iloc[i+1])\n",
        "    X = np.array(X).reshape(-1, 1)\n",
        "    y = np.array(y)\n",
        "\n",
        "    return X,y"
      ]
    },
    {
      "cell_type": "markdown",
      "metadata": {
        "id": "5dGOPpB4T17Q"
      },
      "source": [
        "## train th regression model"
      ]
    },
    {
      "cell_type": "code",
      "execution_count": 396,
      "metadata": {
        "id": "9gCWkbm7T4Ia"
      },
      "outputs": [],
      "source": [
        "def train_regression_model(X,y):\n",
        "    model = RandomForestRegressor()\n",
        "    model.fit(X,y)\n",
        "\n",
        "    return model"
      ]
    },
    {
      "cell_type": "markdown",
      "metadata": {
        "id": "56VZqOBXUBGi"
      },
      "source": [
        "## predict the future"
      ]
    },
    {
      "cell_type": "code",
      "execution_count": 397,
      "metadata": {
        "id": "UOu349gkT4tq"
      },
      "outputs": [],
      "source": [
        "def predict_future(model,current_value):\n",
        "    prediction = [current_value]\n",
        "\n",
        "    for i in range(5):\n",
        "        next_value = model.predict(np.array([[prediction[-1]]]))\n",
        "\n",
        "    prediction.append(next_value[0])\n",
        "\n",
        "    return prediction[1:]"
      ]
    },
    {
      "cell_type": "markdown",
      "metadata": {
        "id": "i1yIp2ekUJcZ"
      },
      "source": [
        "## wheather analysis function"
      ]
    },
    {
      "cell_type": "code",
      "execution_count": null,
      "metadata": {},
      "outputs": [
        {
          "name": "stdout",
          "output_type": "stream",
          "text": [
            "API Response: {'coord': {'lon': 86.9317, 'lat': 21.4942}, 'weather': [{'id': 804, 'main': 'Clouds', 'description': 'overcast clouds', 'icon': '04n'}], 'base': 'stations', 'main': {'temp': 28.55, 'feels_like': 32.79, 'temp_min': 28.55, 'temp_max': 28.55, 'pressure': 1000, 'humidity': 76, 'sea_level': 1000, 'grnd_level': 998}, 'visibility': 10000, 'wind': {'speed': 4.62, 'deg': 228, 'gust': 9.57}, 'clouds': {'all': 100}, 'dt': 1753635307, 'sys': {'country': 'IN', 'sunrise': 1753573396, 'sunset': 1753620843}, 'timezone': 19800, 'id': 1277599, 'name': 'Balasore', 'cod': 200}\n",
            "City : balasore, IN\n",
            "Current temperature: 29°C\n",
            "Rain Prediction: Yes\n",
            "Future temperature (next hours): [21.91]\n",
            "Future humidity (next hours): [60.94]\n"
          ]
        }
      ],
      "source": [
        "from datetime import timedelta, datetime\n",
        "import pytz\n",
        "import pandas as pd\n",
        "\n",
        "def weather_view():\n",
        "    city = input(\"Enter your city name: \")\n",
        "    current_weather = get_current_weather(city)\n",
        "\n",
        "    historical_data = read_historical_data('weather.csv')\n",
        "    X, y, le = prepare_data(historical_data)\n",
        "    rain_model = train_rain_model(X, y)\n",
        "\n",
        "    #   Map wind direction\n",
        "    wind_deg = current_weather['wind_deg'] % 360\n",
        "    compass_points = [\n",
        "        (\"N\", 0, 11.25), (\"NNE\", 11.25, 33.75),(\"NE\", 33.75, 56.25),\n",
        "        (\"ENE\", 56.25, 78.75),(\"E\", 78.75, 101.25), (\"ESE\", 101.25, 123.75),\n",
        "        (\"SE\", 123.75, 146.25), (\"SSE\", 146.25, 168.75), (\"S\", 168.75, 191.25),\n",
        "        (\"SSW\", 191.25, 213.75), (\"SW\", 213.75, 236.25), (\"WSW\", 236.25, 258.75),\n",
        "        (\"W\", 258.75, 281.25), (\"WNW\", 281.25, 303.75), (\"NW\", 303.75, 326.25),\n",
        "        (\"NNW\", 326.25, 348.75), (\"N\", 348.75, 360)\n",
        "    ]\n",
        "    compass_direction = next(point for point, start, end in compass_points if start <= wind_deg < end)\n",
        "    compass_direction_encoded = le.transform([compass_direction])[0] if compass_direction in le.classes_ else -1\n",
        "\n",
        "    #   Safe current data dictionary\n",
        "    current_data = {\n",
        "        'MinTemp': current_weather.get('min_temp', 0),\n",
        "        'MaxTemp': current_weather.get('max_temp', 0),\n",
        "        'WindGustDir': compass_direction_encoded,\n",
        "        'WindGustSpeed': current_weather.get('Wind_Gust_Speed', 0),\n",
        "        'Humidity': current_weather.get('humidity', 0),\n",
        "        'Pressure': current_weather.get('pressure', 1013),\n",
        "        'Temp': current_weather.get('current_temp', 0)\n",
        "    }\n",
        "\n",
        "    current_df = pd.DataFrame([current_data])\n",
        "    rain_prediction = rain_model.predict(current_df)[0]\n",
        "\n",
        "    #   Prepare models for temperature & humidity prediction\n",
        "    X_temp, y_temp = prepare_regression_data(historical_data, 'Temp')\n",
        "    X_hum, y_hum = prepare_regression_data(historical_data, 'Humidity')\n",
        "\n",
        "    temp_model = train_regression_model(X_temp, y_temp)\n",
        "    hum_model = train_regression_model(X_hum, y_hum)\n",
        "\n",
        "    #   Predict future temperature and humidity\n",
        "    future_temp = predict_future(temp_model, current_weather['current_temp'])\n",
        "    future_humidity = predict_future(hum_model, current_weather['humidity'])\n",
        "\n",
        "    #   Format future timestamps\n",
        "    timezone = pytz.timezone('Asia/Karachi')\n",
        "    now = datetime.now(timezone)\n",
        "    next_hour = now + timedelta(hours=1)\n",
        "    next_hour = next_hour.replace(minute=0, second=0, microsecond=0)\n",
        "    future_time = [(next_hour + timedelta(hours=i)).strftime(\"%H:00\") for i in range(5)]\n",
        "\n",
        "# Convert NumPy float64 to native float and round to 2 decimal places\n",
        "    future_temp = [round(float(val), 2) for val in future_temp]\n",
        "    future_humidity = [round(float(val), 2) for val in future_humidity]\n",
        "\n",
        "\n",
        "    #   Output results\n",
        "    print(f\"City : {city}, {current_weather['country']}\")\n",
        "    print(f\"Current temperature: {current_weather['current_temp']}°C\")\n",
        "    print(f\"Rain Prediction: {'Yes' if rain_prediction else 'No'}\")\n",
        "    print(\"Future temperature (next hours):\", future_temp)\n",
        "    print(\"Future humidity (next hours):\", future_humidity)\n",
        "\n",
        "#   Call the function\n",
        "weather_view()\n"
      ]
    }
  ],
  "metadata": {
    "colab": {
      "provenance": []
    },
    "kernelspec": {
      "display_name": "Python 3",
      "name": "python3"
    },
    "language_info": {
      "codemirror_mode": {
        "name": "ipython",
        "version": 3
      },
      "file_extension": ".py",
      "mimetype": "text/x-python",
      "name": "python",
      "nbconvert_exporter": "python",
      "pygments_lexer": "ipython3",
      "version": "3.12.7"
    }
  },
  "nbformat": 4,
  "nbformat_minor": 0
}
